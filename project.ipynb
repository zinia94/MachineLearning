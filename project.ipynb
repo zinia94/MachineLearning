{
  "nbformat": 4,
  "nbformat_minor": 0,
  "metadata": {
    "colab": {
      "provenance": [],
      "authorship_tag": "ABX9TyO0A/n8E83Kt0NhzwO7jlBU",
      "include_colab_link": true
    },
    "kernelspec": {
      "name": "python3",
      "display_name": "Python 3"
    },
    "language_info": {
      "name": "python"
    }
  },
  "cells": [
    {
      "cell_type": "markdown",
      "metadata": {
        "id": "view-in-github",
        "colab_type": "text"
      },
      "source": [
        "<a href=\"https://colab.research.google.com/github/zinia94/MachineLearning/blob/main/project.ipynb\" target=\"_parent\"><img src=\"https://colab.research.google.com/assets/colab-badge.svg\" alt=\"Open In Colab\"/></a>"
      ]
    },
    {
      "cell_type": "markdown",
      "source": [
        "# Introduction"
      ],
      "metadata": {
        "id": "MBsWfOP-9jFq"
      }
    },
    {
      "cell_type": "markdown",
      "source": [
        "# Importing Libraries"
      ],
      "metadata": {
        "id": "s064SVOF67NU"
      }
    },
    {
      "cell_type": "code",
      "execution_count": null,
      "metadata": {
        "id": "NxJ3R08KjHld"
      },
      "outputs": [],
      "source": [
        "import pandas as pd"
      ]
    },
    {
      "cell_type": "markdown",
      "source": [
        "# Business Problem Definition"
      ],
      "metadata": {
        "id": "G1TyL1as8ybV"
      }
    },
    {
      "cell_type": "code",
      "source": [],
      "metadata": {
        "id": "7Xxa1TYQ8zbK"
      },
      "execution_count": null,
      "outputs": []
    },
    {
      "cell_type": "markdown",
      "source": [
        "# Data Collection"
      ],
      "metadata": {
        "id": "PKlN3VDw80H6"
      }
    },
    {
      "cell_type": "code",
      "source": [],
      "metadata": {
        "id": "fe-YTiBY80e5"
      },
      "execution_count": null,
      "outputs": []
    },
    {
      "cell_type": "markdown",
      "source": [],
      "metadata": {
        "id": "og_Qf9pJ80sa"
      }
    },
    {
      "cell_type": "code",
      "source": [],
      "metadata": {
        "id": "YEUoXmg7805b"
      },
      "execution_count": null,
      "outputs": []
    },
    {
      "cell_type": "markdown",
      "source": [],
      "metadata": {
        "id": "dO3fdGr181FO"
      }
    },
    {
      "cell_type": "code",
      "source": [],
      "metadata": {
        "id": "ONQLNHJI81Rv"
      },
      "execution_count": null,
      "outputs": []
    },
    {
      "cell_type": "markdown",
      "source": [],
      "metadata": {
        "id": "0tEu3Fuc81c-"
      }
    },
    {
      "cell_type": "code",
      "source": [],
      "metadata": {
        "id": "jADRhP1J811P"
      },
      "execution_count": null,
      "outputs": []
    },
    {
      "cell_type": "markdown",
      "source": [],
      "metadata": {
        "id": "cKlvueju82Ft"
      }
    },
    {
      "cell_type": "code",
      "source": [],
      "metadata": {
        "id": "08HmYj-g82TI"
      },
      "execution_count": null,
      "outputs": []
    },
    {
      "cell_type": "markdown",
      "source": [],
      "metadata": {
        "id": "bbBsYP5o82fa"
      }
    }
  ]
}